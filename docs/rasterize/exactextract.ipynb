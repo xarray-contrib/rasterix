{
 "cells": [
  {
   "cell_type": "markdown",
   "id": "0",
   "metadata": {},
   "source": [
    "# With `exactextract`\n",
    "\n",
    "Rasterix includes dask-aware wrappers for `exactextract.exact_extract`'s coverage estimation."
   ]
  },
  {
   "cell_type": "markdown",
   "id": "1",
   "metadata": {},
   "source": [
    "## Read data\n",
    "\n",
    "### Read in some raster data"
   ]
  },
  {
   "cell_type": "code",
   "execution_count": null,
   "id": "2",
   "metadata": {},
   "outputs": [],
   "source": [
    "import xarray as xr\n",
    "\n",
    "ds = xr.tutorial.open_dataset(\"eraint_uvz\")\n",
    "ds = ds.rio.write_crs(\"epsg:4326\")\n",
    "ds"
   ]
  },
  {
   "cell_type": "markdown",
   "id": "3",
   "metadata": {},
   "source": [
    "### Read in example geometries"
   ]
  },
  {
   "cell_type": "code",
   "execution_count": null,
   "id": "4",
   "metadata": {},
   "outputs": [],
   "source": [
    "import geodatasets\n",
    "import geopandas as gpd\n",
    "\n",
    "world = gpd.read_file(geodatasets.get_path(\"naturalearth land\"))\n",
    "world"
   ]
  },
  {
   "cell_type": "markdown",
   "id": "5",
   "metadata": {},
   "source": [
    "## Calculate coverage"
   ]
  },
  {
   "cell_type": "code",
   "execution_count": null,
   "id": "6",
   "metadata": {},
   "outputs": [],
   "source": [
    "from rasterix.rasterize.exact import coverage\n",
    "\n",
    "n = coverage(ds, world[[\"geometry\"]], xdim=\"longitude\", ydim=\"latitude\")\n",
    "n"
   ]
  },
  {
   "cell_type": "code",
   "execution_count": null,
   "id": "7",
   "metadata": {},
   "outputs": [],
   "source": [
    "n.isel(geometry=112).plot()"
   ]
  },
  {
   "cell_type": "markdown",
   "id": "8",
   "metadata": {},
   "source": [
    "Optionally clip to the `total_bounds` of the geometries passed in"
   ]
  },
  {
   "cell_type": "code",
   "execution_count": null,
   "id": "9",
   "metadata": {},
   "outputs": [],
   "source": [
    "from rasterix.rasterize.exact import coverage\n",
    "\n",
    "coverage(\n",
    "    ds,\n",
    "    world[[\"geometry\"]].iloc[slice(112, 113)],\n",
    "    xdim=\"longitude\",\n",
    "    ydim=\"latitude\",\n",
    "    clip=True,\n",
    ").plot()"
   ]
  },
  {
   "cell_type": "markdown",
   "id": "10",
   "metadata": {},
   "source": [
    "Notice that the output data is a `sparse.COO` array with a new dimension `geometry`. The input geometries are propagated as a coordinate variable named `geometry`.\n",
    "\n",
    "Different coverage weights are supported. Extra attributes `units` and `long_name` are assigned as appropriate."
   ]
  },
  {
   "cell_type": "code",
   "execution_count": null,
   "id": "11",
   "metadata": {},
   "outputs": [],
   "source": [
    "from rasterix.rasterize.exact import coverage\n",
    "\n",
    "n = coverage(ds, world[[\"geometry\"]], xdim=\"longitude\", ydim=\"latitude\", coverage_weight=\"fraction\")\n",
    "n"
   ]
  },
  {
   "cell_type": "markdown",
   "id": "12",
   "metadata": {},
   "source": [
    "## Out-of-core support\n",
    "\n",
    "As with other rasterization code, various combinations of chunked and in-memory arrays and geometries are supported."
   ]
  },
  {
   "cell_type": "code",
   "execution_count": null,
   "id": "13",
   "metadata": {},
   "outputs": [],
   "source": [
    "chunked = ds.chunk({\"latitude\": -1, \"longitude\": 120})\n",
    "d = coverage(chunked, world[[\"geometry\"]], xdim=\"longitude\", ydim=\"latitude\")\n",
    "d"
   ]
  },
  {
   "cell_type": "code",
   "execution_count": null,
   "id": "14",
   "metadata": {},
   "outputs": [],
   "source": [
    "xr.testing.assert_identical(d, n)"
   ]
  },
  {
   "cell_type": "code",
   "execution_count": null,
   "id": "15",
   "metadata": {},
   "outputs": [],
   "source": [
    "import dask_geopandas as dgpd\n",
    "\n",
    "dd = coverage(\n",
    "    ds.chunk({\"latitude\": -1, \"longitude\": 240}),\n",
    "    dgpd.from_geopandas(world[[\"geometry\"]], npartitions=3),\n",
    "    xdim=\"longitude\",\n",
    "    ydim=\"latitude\",\n",
    ")\n",
    "dd"
   ]
  },
  {
   "cell_type": "code",
   "execution_count": null,
   "id": "16",
   "metadata": {},
   "outputs": [],
   "source": [
    "xr.testing.assert_identical(dd, n)"
   ]
  }
 ],
 "metadata": {
  "language_info": {
   "codemirror_mode": {
    "name": "ipython",
    "version": 3
   },
   "file_extension": ".py",
   "mimetype": "text/x-python",
   "name": "python",
   "nbconvert_exporter": "python",
   "pygments_lexer": "ipython3"
  }
 },
 "nbformat": 4,
 "nbformat_minor": 5
}
