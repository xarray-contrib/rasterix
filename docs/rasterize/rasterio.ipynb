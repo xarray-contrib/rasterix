{
 "cells": [
  {
   "cell_type": "markdown",
   "id": "0",
   "metadata": {},
   "source": [
    "# With `rasterio.rasterize`\n",
    "\n",
    "Rasterix includes a dask-aware wrapper for `rasterio.features.rasterize`."
   ]
  },
  {
   "cell_type": "markdown",
   "id": "1",
   "metadata": {},
   "source": [
    "## Read data\n",
    "\n",
    "### Read in some raster data"
   ]
  },
  {
   "cell_type": "code",
   "execution_count": null,
   "id": "2",
   "metadata": {},
   "outputs": [],
   "source": [
    "import xarray as xr\n",
    "\n",
    "ds = xr.tutorial.open_dataset(\"eraint_uvz\")\n",
    "ds = ds.rio.write_crs(\"epsg:4326\")\n",
    "ds"
   ]
  },
  {
   "cell_type": "markdown",
   "id": "3",
   "metadata": {},
   "source": [
    "### Read in example geometries"
   ]
  },
  {
   "cell_type": "code",
   "execution_count": null,
   "id": "4",
   "metadata": {},
   "outputs": [],
   "source": [
    "import geodatasets\n",
    "import geopandas as gpd\n",
    "\n",
    "world = gpd.read_file(geodatasets.get_path(\"naturalearth land\"))\n",
    "world"
   ]
  },
  {
   "cell_type": "code",
   "execution_count": null,
   "id": "5",
   "metadata": {},
   "outputs": [],
   "source": [
    "from rasterix.rasterize.rasterio import rasterize\n",
    "\n",
    "n = rasterize(ds, world[[\"geometry\"]], xdim=\"longitude\", ydim=\"latitude\")\n",
    "n.plot()"
   ]
  },
  {
   "cell_type": "markdown",
   "id": "6",
   "metadata": {},
   "source": [
    "## Out-of-core support\n",
    "\n",
    "All combinations of chunked and in-memory arrays and geometries are supported.\n",
    "\n",
    "### dask.array + geopandas"
   ]
  },
  {
   "cell_type": "code",
   "execution_count": null,
   "id": "7",
   "metadata": {},
   "outputs": [],
   "source": [
    "chunked = ds.chunk({\"latitude\": -1, \"longitude\": 120})\n",
    "d = rasterize(chunked, world[[\"geometry\"]], xdim=\"longitude\", ydim=\"latitude\")\n",
    "d"
   ]
  },
  {
   "cell_type": "code",
   "execution_count": null,
   "id": "8",
   "metadata": {},
   "outputs": [],
   "source": [
    "xr.testing.assert_identical(n, d)"
   ]
  },
  {
   "cell_type": "markdown",
   "id": "9",
   "metadata": {},
   "source": [
    "### dask.array + dask-geopandas"
   ]
  },
  {
   "cell_type": "code",
   "execution_count": null,
   "id": "10",
   "metadata": {},
   "outputs": [],
   "source": [
    "import dask_geopandas as dgpd\n",
    "\n",
    "dd = rasterize(\n",
    "    ds.chunk({\"latitude\": -1, \"longitude\": 240}),\n",
    "    dgpd.from_geopandas(world[[\"geometry\"]], npartitions=3),\n",
    "    xdim=\"longitude\",\n",
    "    ydim=\"latitude\",\n",
    ")\n",
    "dd"
   ]
  },
  {
   "cell_type": "code",
   "execution_count": null,
   "id": "11",
   "metadata": {},
   "outputs": [],
   "source": [
    "xr.testing.assert_identical(dd, d)"
   ]
  },
  {
   "cell_type": "code",
   "execution_count": null,
   "id": "12",
   "metadata": {},
   "outputs": [],
   "source": []
  }
 ],
 "metadata": {
  "language_info": {
   "codemirror_mode": {
    "name": "ipython",
    "version": 3
   },
   "file_extension": ".py",
   "mimetype": "text/x-python",
   "name": "python",
   "nbconvert_exporter": "python",
   "pygments_lexer": "ipython3"
  }
 },
 "nbformat": 4,
 "nbformat_minor": 5
}
