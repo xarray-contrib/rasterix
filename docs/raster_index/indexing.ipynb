{
 "cells": [
  {
   "cell_type": "markdown",
   "id": "0",
   "metadata": {
    "editable": true,
    "slideshow": {
     "slide_type": ""
    },
    "tags": []
   },
   "source": [
    "# Indexing"
   ]
  },
  {
   "cell_type": "markdown",
   "id": "1",
   "metadata": {
    "editable": true,
    "slideshow": {
     "slide_type": ""
    },
    "tags": []
   },
   "source": [
    "We will demonstrate the raster index with a simple dataset with  rectilinear coordinates and no rotation or skew.\n",
    "Both x and y coordinates are 1-dimensional."
   ]
  },
  {
   "cell_type": "code",
   "execution_count": null,
   "id": "2",
   "metadata": {
    "editable": true,
    "slideshow": {
     "slide_type": ""
    },
    "tags": [
     "raises-exception",
     "hide-input",
     "hide-output"
    ]
   },
   "outputs": [],
   "source": [
    "%xmode minimal\n",
    "\n",
    "import numpy as np\n",
    "import xarray as xr\n",
    "\n",
    "import rasterix\n",
    "\n",
    "np.set_printoptions(threshold=10, edgeitems=2)\n",
    "xr.set_options(display_expand_indexes=True)"
   ]
  },
  {
   "cell_type": "code",
   "execution_count": null,
   "id": "3",
   "metadata": {
    "editable": true,
    "slideshow": {
     "slide_type": ""
    },
    "tags": []
   },
   "outputs": [],
   "source": [
    "source = \"https://noaadata.apps.nsidc.org/NOAA/G02135/south/daily/geotiff/2024/01_Jan/S_20240101_concentration_v3.0.tif\"\n",
    "\n",
    "da = xr.open_dataarray(source, engine=\"rasterio\").pipe(rasterix.assign_index)\n",
    "da"
   ]
  },
  {
   "cell_type": "markdown",
   "id": "4",
   "metadata": {
    "editable": true,
    "slideshow": {
     "slide_type": ""
    },
    "tags": []
   },
   "source": [
    "## Positional Indexing (`isel`)\n",
    "\n",
    "```{seealso}\n",
    "Now we will demonstrate indexing with a `RasterIndex`. See the Xarray [docs](https://docs.xarray.dev/en/stable/user-guide/indexing.html) and [tutorial](https://tutorial.xarray.dev/fundamentals/02.1_indexing_Basic.html) to understand the concepts underlying this section.\n",
    "```"
   ]
  },
  {
   "cell_type": "markdown",
   "id": "5",
   "metadata": {},
   "source": [
    "### Slicing both x and y\n",
    "\n",
    "Slicing preserves the laziness of coordinates since the new dataset can be represented by a new affine transform."
   ]
  },
  {
   "cell_type": "code",
   "execution_count": null,
   "id": "6",
   "metadata": {},
   "outputs": [],
   "source": [
    "da_sliced = da.isel(x=slice(1, 4), y=slice(None, None, 2))\n",
    "da_sliced"
   ]
  },
  {
   "cell_type": "markdown",
   "id": "7",
   "metadata": {},
   "source": [
    "Compare the transforms before/after slicing."
   ]
  },
  {
   "cell_type": "code",
   "execution_count": null,
   "id": "8",
   "metadata": {},
   "outputs": [],
   "source": [
    "(da.xindexes[\"x\"].transform(), da_sliced.xindexes[\"x\"].transform())"
   ]
  },
  {
   "cell_type": "code",
   "execution_count": null,
   "id": "9",
   "metadata": {},
   "outputs": [],
   "source": [
    "print(da_sliced.xindexes[\"x\"])\n",
    "print(da_sliced.xindexes[\"y\"])"
   ]
  },
  {
   "cell_type": "markdown",
   "id": "10",
   "metadata": {},
   "source": [
    "### Outer indexing with array-like indexers"
   ]
  },
  {
   "cell_type": "code",
   "execution_count": null,
   "id": "11",
   "metadata": {},
   "outputs": [],
   "source": [
    "da_outer = da.isel(x=[0, 2, 4], y=[0, 0, 1])\n",
    "da_outer"
   ]
  },
  {
   "cell_type": "markdown",
   "id": "12",
   "metadata": {},
   "source": [
    "We cannot compute a new affine transform given arbitrary array positions, so the resulting dataset has no indexes associated with `x` and `y`."
   ]
  },
  {
   "cell_type": "code",
   "execution_count": null,
   "id": "13",
   "metadata": {},
   "outputs": [],
   "source": [
    "da_outer.xindexes"
   ]
  },
  {
   "cell_type": "markdown",
   "id": "14",
   "metadata": {},
   "source": [
    "### Basic indexing with scalars"
   ]
  },
  {
   "cell_type": "code",
   "execution_count": null,
   "id": "15",
   "metadata": {},
   "outputs": [],
   "source": [
    "da_scalar = da.isel(x=0, y=1)\n",
    "da_scalar"
   ]
  },
  {
   "cell_type": "code",
   "execution_count": null,
   "id": "16",
   "metadata": {},
   "outputs": [],
   "source": [
    "da_xscalar = da.isel(x=0)\n",
    "da_xscalar"
   ]
  },
  {
   "cell_type": "code",
   "execution_count": null,
   "id": "17",
   "metadata": {},
   "outputs": [],
   "source": [
    "# da_xscalar.xindexes[\"y\"]  # should return an index"
   ]
  },
  {
   "cell_type": "markdown",
   "id": "18",
   "metadata": {},
   "source": [
    "### Vectorized (fancy) indexing\n",
    "\n",
    "```{seealso}\n",
    "See the Xarray [tutorial](https://tutorial.xarray.dev/intermediate/indexing/advanced-indexing.html) for more on this topic.\n",
    "```\n",
    "\n",
    "Indexing the spatial coordinates with Xarray `Variable`  or `DataArray` objects returns an unindexed object. The result cannot be represented by a RasterIndex in general."
   ]
  },
  {
   "cell_type": "code",
   "execution_count": null,
   "id": "19",
   "metadata": {},
   "outputs": [],
   "source": [
    "da_points = da.isel(x=xr.DataArray([0, 1], dims=\"z\"), y=xr.DataArray([1, 1], dims=\"z\"))\n",
    "da_points"
   ]
  },
  {
   "cell_type": "code",
   "execution_count": null,
   "id": "20",
   "metadata": {},
   "outputs": [],
   "source": [
    "da_points2d = da.isel(\n",
    "    x=xr.Variable((\"u\", \"v\"), [[0, 1], [2, 3]]),\n",
    "    y=xr.Variable((\"u\", \"v\"), [[1, 1], [2, 2]]),\n",
    ")\n",
    "da_points2d"
   ]
  },
  {
   "cell_type": "markdown",
   "id": "21",
   "metadata": {
    "editable": true,
    "slideshow": {
     "slide_type": ""
    },
    "tags": []
   },
   "source": [
    "## Label-based Indexing (`sel`)\n",
    "\n",
    "Label-based indexing also preserves the RasterIndex where possible, like positional indexing."
   ]
  },
  {
   "cell_type": "code",
   "execution_count": null,
   "id": "22",
   "metadata": {
    "editable": true,
    "slideshow": {
     "slide_type": ""
    },
    "tags": []
   },
   "outputs": [],
   "source": [
    "da.sel(x=slice(-2e6, 2e6), y=slice(4e6, -2e6))"
   ]
  }
 ],
 "metadata": {
  "language_info": {
   "codemirror_mode": {
    "name": "ipython",
    "version": 3
   },
   "file_extension": ".py",
   "mimetype": "text/x-python",
   "name": "python",
   "nbconvert_exporter": "python",
   "pygments_lexer": "ipython3"
  }
 },
 "nbformat": 4,
 "nbformat_minor": 5
}
