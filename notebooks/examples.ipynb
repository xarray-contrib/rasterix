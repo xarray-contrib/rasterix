{
 "cells": [
  {
   "cell_type": "markdown",
   "id": "0",
   "metadata": {},
   "source": [
    "# Raster dataset examples\n",
    "\n",
    "Written by ChatGPT.\n",
    "\n",
    "## GeoTiffs with GCPs and Tiepoints"
   ]
  },
  {
   "cell_type": "code",
   "execution_count": null,
   "id": "1",
   "metadata": {},
   "outputs": [],
   "source": [
    "import numpy as np\n",
    "import rasterio\n",
    "from rasterio.control import GroundControlPoint\n",
    "from rasterio.transform import Affine\n",
    "\n",
    "# Define file path for output GeoTIFF\n",
    "output_tiff = \"output_with_gcps_tiepoints.tif\"\n",
    "\n",
    "# Create a dummy raster (100x100) with random values\n",
    "width, height = 100, 100\n",
    "data = np.random.randint(0, 255, (1, height, width), dtype=np.uint8)\n",
    "\n",
    "# Define Affine transformation (default identity)\n",
    "transform = Affine.translation(0, 0) * Affine.scale(1, -1)\n",
    "\n",
    "# Define Ground Control Points (GCPs)\n",
    "gcps = [\n",
    "    GroundControlPoint(row=10, col=20, x=-122.123, y=37.456, z=50),\n",
    "    GroundControlPoint(row=30, col=40, x=-122.456, y=37.789, z=60),\n",
    "    GroundControlPoint(row=50, col=60, x=-122.789, y=38.123, z=55),\n",
    "]\n",
    "\n",
    "# Define Tie Points (Model Tiepoints)\n",
    "tie_points = [\n",
    "    (0, 0, 0, -122.1, 37.4, 0),\n",
    "    (50, 50, 0, -122.2, 37.5, 0),\n",
    "]\n",
    "\n",
    "# Create a new GeoTIFF with GCPs\n",
    "with rasterio.open(\n",
    "    output_tiff,\n",
    "    \"w\",\n",
    "    driver=\"GTiff\",\n",
    "    height=height,\n",
    "    width=width,\n",
    "    count=1,\n",
    "    dtype=rasterio.uint8,\n",
    "    crs=\"EPSG:4326\",  # Define coordinate reference system (WGS84)\n",
    "    transform=transform,\n",
    ") as dst:\n",
    "    dst.write(data)\n",
    "\n",
    "    # Add Ground Control Points\n",
    "    dst.gcps = (gcps, dst.crs)\n",
    "\n",
    "    # Add Tie Points as metadata\n",
    "    dst.update_tags(TIEPOINTS=str(tie_points))\n",
    "\n",
    "print(f\"GeoTIFF with GCPs and Tie Points saved as {output_tiff}\")"
   ]
  },
  {
   "cell_type": "code",
   "execution_count": null,
   "id": "2",
   "metadata": {},
   "outputs": [],
   "source": [
    "import xarray as xr\n",
    "\n",
    "xr.open_dataset(\"output_with_gcps_tiepoints.tif\", engine=\"rasterio\")"
   ]
  },
  {
   "cell_type": "code",
   "execution_count": null,
   "id": "3",
   "metadata": {},
   "outputs": [],
   "source": [
    "import rasterio\n",
    "\n",
    "# Open the saved GeoTIFF\n",
    "output_tiff = \"output_with_gcps_tiepoints.tif\"\n",
    "\n",
    "with rasterio.open(output_tiff) as dataset:\n",
    "    print(\"GeoTransform (Affine Transformation):\")\n",
    "    print(dataset.transform)\n",
    "    print(dataset.gcps)\n",
    "    print(dataset.tags())"
   ]
  },
  {
   "cell_type": "markdown",
   "id": "4",
   "metadata": {},
   "source": [
    "## GDAL netCDF with GeoTransform\n",
    "\n",
    "rasterio cannot write to netCDF"
   ]
  },
  {
   "cell_type": "code",
   "execution_count": null,
   "id": "5",
   "metadata": {},
   "outputs": [],
   "source": [
    "import numpy as np\n",
    "from osgeo import gdal, osr\n",
    "\n",
    "# Define the output netCDF file\n",
    "output_file = \"output.nc\"\n",
    "\n",
    "# Define raster dimensions\n",
    "cols = 10  # Number of columns\n",
    "rows = 10  # Number of rows\n",
    "bands = 1  # Number of bands\n",
    "\n",
    "# Define geotransform (Origin X, Pixel Width, Rotation, Origin Y, Rotation, Pixel Height)\n",
    "geotransform = [100.0, 30.0, 0.0, 200.0, 0.0, -30.0]  # Example values\n",
    "\n",
    "# Define a spatial reference (WGS84 in this case)\n",
    "srs = osr.SpatialReference()\n",
    "srs.ImportFromEPSG(4326)  # WGS84\n",
    "proj_wkt = srs.ExportToWkt()\n",
    "\n",
    "# Create a new netCDF file using GDAL\n",
    "driver = gdal.GetDriverByName(\"netCDF\")\n",
    "dataset = driver.Create(output_file, cols, rows, bands, gdal.GDT_Float32)\n",
    "\n",
    "# Set geotransform and projection\n",
    "dataset.SetGeoTransform(geotransform)\n",
    "dataset.SetProjection(proj_wkt)\n",
    "\n",
    "# Create some dummy data (a simple gradient)\n",
    "data = np.arange(cols * rows, dtype=np.float32).reshape(rows, cols)\n",
    "\n",
    "# Write data to the first band\n",
    "band = dataset.GetRasterBand(1)\n",
    "band.WriteArray(data)\n",
    "band.SetNoDataValue(-9999)  # Set a no-data value\n",
    "\n",
    "# Flush and close dataset\n",
    "band.FlushCache()\n",
    "dataset = None\n",
    "\n",
    "print(f\"NetCDF file '{output_file}' created with geotransform and projection.\")"
   ]
  },
  {
   "cell_type": "code",
   "execution_count": null,
   "id": "6",
   "metadata": {},
   "outputs": [],
   "source": [
    "import xarray as xr\n",
    "\n",
    "xr.open_dataset(\"output.nc\")"
   ]
  }
 ],
 "metadata": {
  "language_info": {
   "codemirror_mode": {
    "name": "ipython",
    "version": 3
   },
   "file_extension": ".py",
   "mimetype": "text/x-python",
   "name": "python",
   "nbconvert_exporter": "python",
   "pygments_lexer": "ipython3"
  }
 },
 "nbformat": 4,
 "nbformat_minor": 5
}
